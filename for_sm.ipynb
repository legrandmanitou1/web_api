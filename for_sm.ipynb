{
 "cells": [
  {
   "cell_type": "code",
   "execution_count": null,
   "id": "fade336a",
   "metadata": {},
   "outputs": [],
   "source": [
    "import pandas as pd\n",
    "from fastapi import FastAPI\n",
    "from pydantic import BaseModel\n",
    "from datetime import datetime\n",
    "import statsmodels\n",
    "import pickle\n",
    "import json as json\n",
    "\n",
    "## Creating a Fastapi object\n",
    "app = FastAPI()\n",
    "\n",
    "sm_32_model = pickle.load(open('sm_32_model.sav', 'rb'))\n",
    "data_32=pd.read_csv('test_sm_32.csv')\n",
    "data_162=pd.read_csv('test_162.csv')\n",
    "data_163=pd.read_csv('test_163.csv')\n",
    "\n",
    "\n",
    "@app.post(\"/predict\")\n",
    "def predict():\n",
    "    prediction_32 = results.predict(start=data_32.index[0],end=data_32.index[-1], exog=data_32)\n",
    "    predict_32=pd.DataFrame(prediction_32, columns=['predicted_mean_32'])\n",
    "    predicted_means_32 = predict_32[['predicted_mean_32']]\n",
    "    \n",
    "    prediction_162 = results.predict(start=data_162.index[0],end=data_162.index[-1], exog=data_162)\n",
    "    predict_162=pd.DataFrame(prediction_162, columns=['predicted_mean_162'])\n",
    "    predicted_means_162 = predict_162[['predicted_mean_162']]\n",
    "    \n",
    "    prediction_163 = results.predict(start=data_163.index[0],end=data_163.index[-1], exog=data_163)\n",
    "    predict_163=pd.DataFrame(prediction_163, columns=['predicted_mean_163'])\n",
    "    predicted_means_163 = predict_163[['predicted_mean_163']]\n",
    "    \n",
    "    prediction_32=predicted_means_32.to_json(orient='records')\n",
    "    prediction_162=predicted_means_162.to_json(orient='records')\n",
    "    prediction_163=predicted_means_163.to_json(orient='records')\n",
    "    \n",
    "\n",
    "   \n",
    "    return prediction_32, prediction_162, prediction_163"
   ]
  }
 ],
 "metadata": {
  "kernelspec": {
   "display_name": "Python 3 (ipykernel)",
   "language": "python",
   "name": "python3"
  },
  "language_info": {
   "codemirror_mode": {
    "name": "ipython",
    "version": 3
   },
   "file_extension": ".py",
   "mimetype": "text/x-python",
   "name": "python",
   "nbconvert_exporter": "python",
   "pygments_lexer": "ipython3",
   "version": "3.9.13"
  }
 },
 "nbformat": 4,
 "nbformat_minor": 5
}
